{
  "nbformat": 4,
  "nbformat_minor": 0,
  "metadata": {
    "colab": {
      "provenance": []
    },
    "kernelspec": {
      "name": "python3",
      "display_name": "Python 3"
    },
    "language_info": {
      "name": "python"
    }
  },
  "cells": [
    {
      "cell_type": "markdown",
      "source": [
        "**<h1>ES654: Introduction to Machine Learning <h1>**\n",
        "<h2>Prerequisite Test<h2>\n",
        "\n",
        "\n",
        "\n"
      ],
      "metadata": {
        "id": "NTY6magwsFMQ"
      }
    },
    {
      "cell_type": "markdown",
      "source": [
        "**<h2>Question 1<h2>**"
      ],
      "metadata": {
        "id": "xFWRB9Xi2J9c"
      }
    },
    {
      "cell_type": "markdown",
      "source": [
        "Multiplication of $n\\times k$ and $k\\times m$ matrices will form a matrix of $n\\times m$ dimensions. \n",
        "Let the first matrix be $M_1$ ($n\\times k$) and second matrix be $M_2$ ($k\\times m$). <br>\n",
        "According to the matrix multiplication method, firstly we multiply each element from each row of $M_1$ matrix with each element from each column of $M_2$ matrix. Therefore, each element of $M_1$ is multiplied $m$ times, thus, $(nk).m$ multiplications are done in total. Now, let $M$ $(n\\times m)$ be the final matrix. In each row there will be $k$ elements that will be added therefore, there will be $(k-1)$ additions to form each element of $M$ matrix. Thus, total $(nm).(k-1)$ additions. \n",
        "\n",
        " **Total Multiplications: $n.k.m$** <br>\n",
        " **Total Additions: $n.m.(k-1)$**"
      ],
      "metadata": {
        "id": "CzzrrcCcupof"
      }
    },
    {
      "cell_type": "markdown",
      "source": [
        "**<h2>Question 2<h2>**"
      ],
      "metadata": {
        "id": "KrZs57TosKIR"
      }
    },
    {
      "cell_type": "code",
      "source": [
        "import timeit\n",
        "import numpy as np\n",
        "\n",
        "n=int(input())     \n",
        "k=int(input())\n",
        "m=int(input())\n",
        "\n",
        "M1=np.random.randint(10, size=(n,k))\n",
        "M2=np.random.randint(10, size=(k,m))\n",
        "\n",
        "def method1(M1, M2):\n",
        "  M=np.zeros((len(M1),len(M2[0])), dtype=int)\n",
        "  for i in range(n):\n",
        "    for j in range(m):\n",
        "      for l in range(k):\n",
        "        M[i][j]+=M1[i][l]*M2[l][j]\n",
        "  return M\n",
        "\n",
        "def method2(M1, M2):\n",
        "  M=np.dot(M1, M2)\n",
        "  return M\n",
        "\n",
        "ResM_1=method1(M1, M2)\n",
        "time1=timeit.Timer('method1(M1, M2)', 'from __main__ import method1, M1, M2')\n",
        "repeat1=time1.repeat(1000, 1)\n",
        "mean_time1=sum(repeat1)/len(repeat1)\n",
        "sd_time1=np.std(repeat1)\n",
        "\n",
        "ResM_2=method2(M1, M2)\n",
        "time2=timeit.Timer('method2(M1, M2)', 'from __main__ import method2, M1, M2')\n",
        "repeat2=time2.repeat(1000, 1)\n",
        "mean_time2=sum(repeat2)/len(repeat2)\n",
        "sd_time2=np.std(repeat2)\n",
        "\n",
        "print(\"\\n\")\n",
        "print(\"The resultant matrix using list of lists method is:\")\n",
        "print(ResM_1)\n",
        "print(\"It takes\", mean_time1, \"seconds with deviation of\", sd_time1, \"/n\")\n",
        "\n",
        "print(\"The resultant matrix using inbuilt library is:\") \n",
        "print(ResM_2)\n",
        "print(\"It takes\", mean_time2, \"seconds with deviation of\", sd_time2)"
      ],
      "metadata": {
        "id": "LXRV2WGmsMB0",
        "colab": {
          "base_uri": "https://localhost:8080/"
        },
        "outputId": "54025c00-b0e0-4fe7-8782-87f500d539da"
      },
      "execution_count": 77,
      "outputs": [
        {
          "output_type": "stream",
          "name": "stdout",
          "text": [
            "3\n",
            "3\n",
            "4\n",
            "\n",
            "\n",
            "The resultant matrix using list of lists method is:\n",
            "[[119  49  42  70]\n",
            " [ 22  23  29  40]\n",
            " [ 90  47  46  55]]\n",
            "It takes 4.7982980013330235e-05 seconds with deviation of 2.9213253121227777e-05 /n\n",
            "The resultant matrix using inbuilt library is:\n",
            "[[119  49  42  70]\n",
            " [ 22  23  29  40]\n",
            " [ 90  47  46  55]]\n",
            "It takes 2.071573968351004e-06 seconds with deviation of 8.157607109710447e-06\n"
          ]
        }
      ]
    },
    {
      "cell_type": "markdown",
      "source": [
        "As seen above, the method using lists of lists takes more time than the method using numpy. This is because in the former method, there are 3 nested loops which makes the time complexity $O(m.n.k$). However, the latter method is faster since numpy uses BLAS (Basic Linear Algebra Subprograms) in its $np.dot$ function which is way more faster. Hence, **numpy method is faster than the list of lists method**. "
      ],
      "metadata": {
        "id": "IwUsfapS9GTv"
      }
    },
    {
      "cell_type": "markdown",
      "source": [
        "**<h2>Question 3<h2>**"
      ],
      "metadata": {
        "id": "UiPDuYyrsNgS"
      }
    },
    {
      "cell_type": "markdown",
      "source": [
        "To find the median it will takes $\\textbf{n/2}$ **passes**. The actual method of finding the median is basically to find the middle element of a sorted array. Finding the highest element, second highest element and so on till $n/2$ steps, will take us to the median. <br>\n",
        "\n",
        "The time complexity of the above method is $O(n^2)$ since the entire array has to be traversed $n/2$ times  $\\therefore n\\:.\\:n/2\\:=\\:n^2/2$. A better method can be to sort the array by Quick Sort or Merge Sort which takes $O(nlog\\:n)$ and then the middle element of this sorted array will be the median. <br>"
      ],
      "metadata": {
        "id": "sR5QqOOf_b4l"
      }
    },
    {
      "cell_type": "code",
      "source": [
        "import math\n",
        "\n",
        "n=int(input(\"Enter the size of the array:\"))\n",
        "\n",
        "arr=np.random.randint(0, 100, size=n)\n",
        "\n",
        "def method1(arr):\n",
        "  copy1=arr.copy()\n",
        "  copy2=arr.copy()\n",
        "  max_element=max(arr[0], arr[1])\n",
        "  Secondmax=min(arr[0], arr[1])\n",
        "\n",
        "  for i in range(len(arr)//2 + 1):    # done +1 since // operator gives the floor value\n",
        "    max_element=-math.inf\n",
        "    for j in range(len(copy1)):\n",
        "      if copy1[j]>max_element:\n",
        "        max_element=copy1[j] \n",
        "    copy1=list(copy1)\n",
        "    copy1.remove(max_element)\n",
        "  ans1=max_element\n",
        "  \n",
        "  for i in range(len(arr)//2):  \n",
        "    max_element=-math.inf\n",
        "    for j in range(len(copy2)):\n",
        "      if copy2[j]>max_element:\n",
        "        max_element=copy2[j] \n",
        "    max_element=max(copy2)\n",
        "    copy2=list(copy2)\n",
        "    copy2.remove(max_element)\n",
        "  ans2=max_element\n",
        "\n",
        "  if len(arr)%2==0:\n",
        "    return (ans1+ans2)/2   \n",
        "  else:\n",
        "    return ans1\n",
        "\n",
        "def method2(arr):\n",
        "  arr.sort()\n",
        "  mid1=arr[len(arr)//2]\n",
        "  mid2=arr[(len(arr)//2)-1]\n",
        "  if len(arr)%2==0:\n",
        "    return (mid1+mid2)/2\n",
        "  else:\n",
        "    return mid1\n",
        "\n",
        "def method3(arr):\n",
        "  return np.median(arr)\n",
        "\n",
        "print(arr, \"\\n\") \n",
        "\n",
        "median1=method1(arr)\n",
        "median2=method2(arr)\n",
        "median3=method3(arr)\n",
        "\n",
        "time1=timeit.Timer('method1(arr)', 'from __main__ import method1, arr')\n",
        "repeat1=time1.repeat(1000, 1)\n",
        "# print(repeat1)\n",
        "mean_time1=sum(repeat1)/len(repeat1)\n",
        "sd_time1=np.std(repeat1)\n",
        "\n",
        "time2=timeit.Timer('method2(arr)', 'from __main__ import method2, arr')\n",
        "repeat2=time2.repeat(1000, 1)\n",
        "mean_time2=sum(repeat2)/len(repeat2)\n",
        "sd_time2=np.std(repeat2)\n",
        "\n",
        "time3=timeit.Timer('method3(arr)', 'from __main__ import method3, arr')\n",
        "repeat3=time3.repeat(1000, 1)\n",
        "mean_time3=sum(repeat3)/len(repeat3)\n",
        "sd_time3=np.std(repeat3)\n",
        "\n",
        "print(\"The median with Method 1 is:\", median1)\n",
        "print(\"It takes\", mean_time1, \"seconds to execute with a deviation of\", sd_time1, \"\\n\")  \n",
        "\n",
        "print(\"The median with Method 2 is:\", median2) \n",
        "print(\"It takes\", mean_time2, \"seconds to execute with a deviation of\", sd_time2, \"\\n\")\n",
        "\n",
        "print(\"The median using numpy.median is:\", median3)\n",
        "print(\"It takes\", mean_time3, \"seconds to execute with a deviation of\", sd_time3)\n",
        "\n",
        "assert median1==median2\n",
        "assert median2==median3"
      ],
      "metadata": {
        "colab": {
          "base_uri": "https://localhost:8080/"
        },
        "id": "GSYSB3beRk8s",
        "outputId": "547bb04a-db6a-48a0-a73d-b5c19586d68b"
      },
      "execution_count": 78,
      "outputs": [
        {
          "output_type": "stream",
          "name": "stdout",
          "text": [
            "Enter the size of the array:50\n",
            "[40 32 72 82  5 61 21 77 33 22 75 23 28 39 33 72  6 36 79 21 81 50 36 48\n",
            " 59 58 14 65 70 41 82 69 57 95 97 34  9 18 71 34 99 87 98 90 37 81 63 25\n",
            " 84 21] \n",
            "\n",
            "The median with Method 1 is: 53.5\n",
            "It takes 0.0004553435140169313 seconds to execute with a deviation of 8.145125569382476e-05 \n",
            "\n",
            "The median with Method 2 is: 53.5\n",
            "It takes 1.0621230971082696e-05 seconds to execute with a deviation of 3.4420207518238656e-05 \n",
            "\n",
            "The median using numpy.median is: 53.5\n",
            "It takes 2.6273416011463268e-05 seconds to execute with a deviation of 2.3573153877974578e-05\n"
          ]
        }
      ]
    },
    {
      "cell_type": "markdown",
      "source": [
        "As seen in the above output, first method takes the maximum time, using $numpy.median$ takes less time than that and finally, sorting the array and then finding the middle element takes the minimum time. "
      ],
      "metadata": {
        "id": "M9-ZlLBanq7P"
      }
    },
    {
      "cell_type": "markdown",
      "source": [
        "**<h2>Question 4<h2>**"
      ],
      "metadata": {
        "id": "0MXIQvJTsPQN"
      }
    },
    {
      "cell_type": "markdown",
      "source": [
        "$f=x^2y+y^3sin(x)$ <br>\n",
        "$grad\\:f(x,y)=\\triangledown\\:f(x,y)$ <br>\n",
        "$\\triangledown\\:f(x,y)=\\frac{\\partial f}{\\partial x}i + \\frac{\\partial f}{\\partial y}j$<br>\n",
        "$\\triangledown\\:f(x,y)=\\frac{\\partial (x^2y+y^3sin(x))}{\\partial x}i + \\frac{\\partial (x^2y+y^3sin(x))}{\\partial y}j$<br>\n",
        "$\\triangledown\\:f(x,y)=(2xy+y^3cos(x))i + (x^2+3y^2sin(x))j$<br>\n",
        "**Therefore, the gradient of the function** $x^2y+y^3sin(x)$ is $(2xy+y^3cos(x))i + (x^2+3y^2sin(x))j$ "
      ],
      "metadata": {
        "id": "DpIw-x5tCttn"
      }
    },
    {
      "cell_type": "markdown",
      "source": [
        "**<h2>Question 5<h2>**"
      ],
      "metadata": {
        "id": "9calqtA3sQtm"
      }
    },
    {
      "cell_type": "code",
      "source": [
        "import jax.numpy as jnp\n",
        "from jax import grad\n",
        "\n",
        "def f(x, y):\n",
        "  return np.sum((x**2)*y + (y**3)*jnp.sin(x))\n",
        "\n",
        "def analytical_gradient_dx(x, y):\n",
        "  return 2*x*y + (y**3)*jnp.cos(x)\n",
        "\n",
        "def analytical_gradient_dy(x, y):\n",
        "  return x**2 + 3*(y**2)*jnp.sin(x)\n",
        "\n",
        "y=np.random.uniform(0, 10, size=5)\n",
        "x=np.random.uniform(0, 10, size=5)\n",
        "\n",
        "dx_jax=grad(f)(x, y)\n",
        "dx_jax=list(dx_jax)\n",
        "dy_jax=grad(f, 1)(x, y)\n",
        "dy_jax=list(dy_jax)\n",
        "\n",
        "# Calculating the analytical solution\n",
        "dx_ana=[]\n",
        "dy_ana=[]\n",
        "for (i, j) in zip(x, y):\n",
        "  dx_ana.append(analytical_gradient_dx(i, j))\n",
        "  dy_ana.append(analytical_gradient_dy(i, j))\n",
        "\n",
        "analytical=dx_ana+dy_ana\n",
        "usingJax=dx_jax+dy_jax\n",
        "\n",
        "print(\"Analytically:\")\n",
        "print(\"The x-components of the gradients are:\", dx_ana)\n",
        "print(\"The y-components of the gradients are:\", dy_ana, \"\\n\")\n",
        "\n",
        "print(\"Using JAX:\")\n",
        "print(\"The x-components of the gradients are:\", dx_jax)\n",
        "print(\"The y-components of the gradients are:\", dy_jax)\n",
        "\n",
        "assert np.allclose(analytical, usingJax)"
      ],
      "metadata": {
        "colab": {
          "base_uri": "https://localhost:8080/"
        },
        "id": "g020TIeVUZp2",
        "outputId": "6ae74db8-2c1e-4c9f-e781-2413bba4481f"
      },
      "execution_count": 79,
      "outputs": [
        {
          "output_type": "stream",
          "name": "stdout",
          "text": [
            "Analytically:\n",
            "The x-components of the gradients are: [DeviceArray(-65.73866, dtype=float32), DeviceArray(6.531908, dtype=float32), DeviceArray(12.823658, dtype=float32), DeviceArray(97.82598, dtype=float32), DeviceArray(15.309387, dtype=float32)]\n",
            "The y-components of the gradients are: [DeviceArray(41.2583, dtype=float32), DeviceArray(9.977593, dtype=float32), DeviceArray(-86.65187, dtype=float32), DeviceArray(132.79562, dtype=float32), DeviceArray(83.12417, dtype=float32)] \n",
            "\n",
            "Using JAX:\n",
            "The x-components of the gradients are: [DeviceArray(-65.73866, dtype=float32), DeviceArray(6.5319076, dtype=float32), DeviceArray(12.823658, dtype=float32), DeviceArray(97.82598, dtype=float32), DeviceArray(15.309387, dtype=float32)]\n",
            "The y-components of the gradients are: [DeviceArray(41.258297, dtype=float32), DeviceArray(9.977593, dtype=float32), DeviceArray(-86.651886, dtype=float32), DeviceArray(132.79562, dtype=float32), DeviceArray(83.12417, dtype=float32)]\n"
          ]
        }
      ]
    },
    {
      "cell_type": "markdown",
      "source": [
        "**<h2>Question 6<h2>**"
      ],
      "metadata": {
        "id": "hkdBBa1DsSA1"
      }
    },
    {
      "cell_type": "code",
      "source": [
        "import sympy as sp\n",
        "\n",
        "def gradient(x, y):\n",
        "    f=sp.Symbol(\"x\")**2 * sp.Symbol(\"y\") + sp.Symbol(\"y\")**3 * sp.sin(sp.Symbol(\"x\"))   # defining the function: x^2.y+y^3.sin(x)\n",
        "    \n",
        "    # Calculating gradient of the function\n",
        "    df_dx=f.diff(sp.Symbol(\"x\"))\n",
        "    df_dy=f.diff(sp.Symbol(\"y\"))\n",
        "    \n",
        "    # Evaluating the gradient of function at a specific point\n",
        "    dx=df_dx.evalf(subs={sp.Symbol(\"x\"): x, sp.Symbol(\"y\"): y})\n",
        "    dy=df_dy.evalf(subs={sp.Symbol(\"x\"): x, sp.Symbol(\"y\"): y})\n",
        "\n",
        "    return dx, dy\n",
        "\n",
        "dx_sym=[]\n",
        "dy_sym=[]\n",
        "\n",
        "for (i, j) in zip(x, y):\n",
        "  dx, dy=gradient(i, j)\n",
        "  dx_sym.append(dx)\n",
        "  dy_sym.append(dy)\n",
        "\n",
        "print(\"Analytically:\")\n",
        "print(\"The x-components of the gradients are:\", dx_ana)\n",
        "print(\"The y-components of the gradients are:\", dy_ana, \"\\n\")\n",
        "\n",
        "print(\"Using sympy:\")\n",
        "print(\"The x-components of the gradients are:\", dx_sym)\n",
        "print(\"The y-components of the gradients are:\", dy_sym)"
      ],
      "metadata": {
        "colab": {
          "base_uri": "https://localhost:8080/"
        },
        "id": "HzMqxLlkJ6yv",
        "outputId": "7781ea0f-af53-47c9-c6da-cb4e2741fcdf"
      },
      "execution_count": 80,
      "outputs": [
        {
          "output_type": "stream",
          "name": "stdout",
          "text": [
            "Analytically:\n",
            "The x-components of the gradients are: [DeviceArray(-65.73866, dtype=float32), DeviceArray(6.531908, dtype=float32), DeviceArray(12.823658, dtype=float32), DeviceArray(97.82598, dtype=float32), DeviceArray(15.309387, dtype=float32)]\n",
            "The y-components of the gradients are: [DeviceArray(41.2583, dtype=float32), DeviceArray(9.977593, dtype=float32), DeviceArray(-86.65187, dtype=float32), DeviceArray(132.79562, dtype=float32), DeviceArray(83.12417, dtype=float32)] \n",
            "\n",
            "Using sympy:\n",
            "The x-components of the gradients are: [-65.7386718461887, 6.53190771597287, 12.8236665185092, 97.8259870282364, 15.3093859363514]\n",
            "The y-components of the gradients are: [41.2582968088579, 9.97759418080401, -86.6518728282807, 132.795624602133, 83.1241796159548]\n"
          ]
        }
      ]
    },
    {
      "cell_type": "markdown",
      "source": [
        "**<h2>Question 7<h2>**"
      ],
      "metadata": {
        "id": "Zz6Xma7bsTru"
      }
    },
    {
      "cell_type": "code",
      "source": [
        "Record={\n",
        "    2022:{\n",
        "        \"Branch 1\": {\n",
        "            1:{\"Name\":\"N\", \"Marks\":{\"Maths\":100, \"English\":70, \"Science\":85}},\n",
        "            2:{\"Name\":\"O\", \"Marks\":{\"Maths\":80, \"English\":80, \"Science\":65}},\n",
        "            3:{\"Name\":\"P\", \"Marks\":{\"Maths\":90, \"English\":95, \"Science\":70}}\n",
        "        },\n",
        "        \"Branch 2\": {\n",
        "            4:{\"Name\":\"Q\", \"Marks\":{\"Maths\":50, \"English\":84, \"Science\":94}},\n",
        "            5:{\"Name\":\"R\", \"Marks\":{\"Maths\":87, \"English\":60, \"Science\":80}},\n",
        "            6:{\"Name\":\"S\", \"Marks\":{\"Maths\":96, \"English\":70, \"Science\":61}}           \n",
        "        },\n",
        "    },\n",
        "    2023:{\n",
        "        \"Branch 1\": {\n",
        "            1:{\"Name\":\"T\", \"Marks\":{\"Maths\":100, \"English\":70, \"Science\":85}},\n",
        "            2:{\"Name\":\"U\", \"Marks\":{\"Maths\":80, \"English\":80, \"Science\":65}},\n",
        "            3:{\"Name\":\"V\", \"Marks\":{\"Maths\":90, \"English\":95, \"Science\":70}}\n",
        "        },\n",
        "        \"Branch 2\": {\n",
        "            4:{\"Name\":\"W\", \"Marks\":{\"Maths\":50, \"English\":84, \"Science\":94}},\n",
        "            5:{\"Name\":\"X\", \"Marks\":{\"Maths\":87, \"English\":60, \"Science\":80}},\n",
        "            6:{\"Name\":\"Y\", \"Marks\":{\"Maths\":96, \"English\":70, \"Science\":61}}           \n",
        "        },\n",
        "    },\n",
        "    2024:{\n",
        "        \"Branch 1\": {\n",
        "            1:{\"Name\":\"Z\", \"Marks\":{\"Maths\":100, \"English\":70, \"Science\":85}},\n",
        "            2:{\"Name\":\"A\", \"Marks\":{\"Maths\":80, \"English\":80, \"Science\":65}},\n",
        "            3:{\"Name\":\"B\", \"Marks\":{\"Maths\":90, \"English\":95, \"Science\":70}}\n",
        "        },\n",
        "        \"Branch 2\": {\n",
        "            4:{\"Name\":\"C\", \"Marks\":{\"Maths\":50, \"English\":84, \"Science\":94}},\n",
        "            5:{\"Name\":\"D\", \"Marks\":{\"Maths\":87, \"English\":60, \"Science\":80}},\n",
        "            6:{\"Name\":\"E\", \"Marks\":{\"Maths\":96, \"English\":70, \"Science\":61}}           \n",
        "        },\n",
        "    },\n",
        "    2025:{\n",
        "        \"Branch 1\": {\n",
        "            1:{\"Name\":\"F\", \"Marks\":{\"Maths\":100, \"English\":70, \"Science\":85}},\n",
        "            2:{\"Name\":\"G\", \"Marks\":{\"Maths\":80, \"English\":80, \"Science\":65}},\n",
        "            3:{\"Name\":\"H\", \"Marks\":{\"Maths\":90, \"English\":95, \"Science\":70}}\n",
        "        },\n",
        "        \"Branch 2\": {\n",
        "            4:{\"Name\":\"I\", \"Marks\":{\"Maths\":50, \"English\":84, \"Science\":94}},\n",
        "            5:{\"Name\":\"J\", \"Marks\":{\"Maths\":87, \"English\":60, \"Science\":80}},\n",
        "            6:{\"Name\":\"K\", \"Marks\":{\"Maths\":96, \"English\":70, \"Science\":61}}           \n",
        "        }\n",
        "    }\n",
        "}\n",
        "\n",
        "print(Record)"
      ],
      "metadata": {
        "id": "yp3QybamsUpD",
        "colab": {
          "base_uri": "https://localhost:8080/"
        },
        "outputId": "d264af70-2614-4bc2-8cfc-8de25fac94ff"
      },
      "execution_count": 81,
      "outputs": [
        {
          "output_type": "stream",
          "name": "stdout",
          "text": [
            "{2022: {'Branch 1': {1: {'Name': 'N', 'Marks': {'Maths': 100, 'English': 70, 'Science': 85}}, 2: {'Name': 'O', 'Marks': {'Maths': 80, 'English': 80, 'Science': 65}}, 3: {'Name': 'P', 'Marks': {'Maths': 90, 'English': 95, 'Science': 70}}}, 'Branch 2': {4: {'Name': 'Q', 'Marks': {'Maths': 50, 'English': 84, 'Science': 94}}, 5: {'Name': 'R', 'Marks': {'Maths': 87, 'English': 60, 'Science': 80}}, 6: {'Name': 'S', 'Marks': {'Maths': 96, 'English': 70, 'Science': 61}}}}, 2023: {'Branch 1': {1: {'Name': 'T', 'Marks': {'Maths': 100, 'English': 70, 'Science': 85}}, 2: {'Name': 'U', 'Marks': {'Maths': 80, 'English': 80, 'Science': 65}}, 3: {'Name': 'V', 'Marks': {'Maths': 90, 'English': 95, 'Science': 70}}}, 'Branch 2': {4: {'Name': 'W', 'Marks': {'Maths': 50, 'English': 84, 'Science': 94}}, 5: {'Name': 'X', 'Marks': {'Maths': 87, 'English': 60, 'Science': 80}}, 6: {'Name': 'Y', 'Marks': {'Maths': 96, 'English': 70, 'Science': 61}}}}, 2024: {'Branch 1': {1: {'Name': 'Z', 'Marks': {'Maths': 100, 'English': 70, 'Science': 85}}, 2: {'Name': 'A', 'Marks': {'Maths': 80, 'English': 80, 'Science': 65}}, 3: {'Name': 'B', 'Marks': {'Maths': 90, 'English': 95, 'Science': 70}}}, 'Branch 2': {4: {'Name': 'C', 'Marks': {'Maths': 50, 'English': 84, 'Science': 94}}, 5: {'Name': 'D', 'Marks': {'Maths': 87, 'English': 60, 'Science': 80}}, 6: {'Name': 'E', 'Marks': {'Maths': 96, 'English': 70, 'Science': 61}}}}, 2025: {'Branch 1': {1: {'Name': 'F', 'Marks': {'Maths': 100, 'English': 70, 'Science': 85}}, 2: {'Name': 'G', 'Marks': {'Maths': 80, 'English': 80, 'Science': 65}}, 3: {'Name': 'H', 'Marks': {'Maths': 90, 'English': 95, 'Science': 70}}}, 'Branch 2': {4: {'Name': 'I', 'Marks': {'Maths': 50, 'English': 84, 'Science': 94}}, 5: {'Name': 'J', 'Marks': {'Maths': 87, 'English': 60, 'Science': 80}}, 6: {'Name': 'K', 'Marks': {'Maths': 96, 'English': 70, 'Science': 61}}}}}\n"
          ]
        }
      ]
    },
    {
      "cell_type": "markdown",
      "source": [
        "**<h2>Question 8<h2>**"
      ],
      "metadata": {
        "id": "vd3mVrRusVAW"
      }
    },
    {
      "cell_type": "code",
      "source": [
        "class Year:\n",
        "  def __init__(self, year, branches):\n",
        "    self.year=year\n",
        "    self.branches=branches\n",
        "\n",
        "class Branch:\n",
        "  def __init__(self, branchName, students):\n",
        "    self.branchName=branchName              \n",
        "    self.students=students\n",
        "\n",
        "class Student:\n",
        "  def __init__(self, rollno, name, marks):\n",
        "    self.rollno=rollno\n",
        "    self.name=name\n",
        "    self.marks=marks\n",
        "\n",
        "Database=[\n",
        "    Year(2022, [\n",
        "        Branch('Branch 1', [\n",
        "            Student(1, 'N', {\"Maths\":100, \"English\":70, \"Science\":85}),\n",
        "            Student(2, '0', {\"Maths\":80, \"English\":80, \"Science\":65}),\n",
        "            Student(3, 'P', {\"Maths\":90, \"English\":95, \"Science\":70})\n",
        "        ]),\n",
        "        Branch('Branch 2', [\n",
        "            Student(4, 'Q', {\"Maths\":50, \"English\":84, \"Science\":94}),\n",
        "            Student(5, 'R', {\"Maths\":87, \"English\":60, \"Science\":80}),\n",
        "            Student(6, 'S', {\"Maths\":96, \"English\":70, \"Science\":61})   \n",
        "        ])\n",
        "    ]),\n",
        "\n",
        "    Year(2023, [\n",
        "        Branch('Branch 1', [\n",
        "            Student(1, 'T', {\"Maths\":100, \"English\":70, \"Science\":85}),\n",
        "            Student(2, 'U', {\"Maths\":80, \"English\":80, \"Science\":65}),\n",
        "            Student(3, 'V', {\"Maths\":90, \"English\":95, \"Science\":70})\n",
        "        ]),\n",
        "        Branch('Branch 2', [\n",
        "            Student(4, 'W', {\"Maths\":50, \"English\":84, \"Science\":94}),\n",
        "            Student(5, 'X', {\"Maths\":87, \"English\":60, \"Science\":80}),\n",
        "            Student(6, 'Y', {\"Maths\":96, \"English\":70, \"Science\":61})   \n",
        "        ])\n",
        "    ]),\n",
        "\n",
        "    Year(2024, [\n",
        "        Branch('Branch 1', [\n",
        "            Student(1, 'Z', {\"Maths\":100, \"English\":70, \"Science\":85}),\n",
        "            Student(2, 'A', {\"Maths\":80, \"English\":80, \"Science\":65}),\n",
        "            Student(3, 'B', {\"Maths\":90, \"English\":95, \"Science\":70})\n",
        "        ]),\n",
        "        Branch('Branch 2', [\n",
        "            Student(4, 'C', {\"Maths\":50, \"English\":84, \"Science\":94}),\n",
        "            Student(5, 'D', {\"Maths\":87, \"English\":60, \"Science\":80}),\n",
        "            Student(6, 'E', {\"Maths\":96, \"English\":70, \"Science\":61})   \n",
        "        ])\n",
        "    ]),\n",
        "\n",
        "    Year(2025, [\n",
        "        Branch('Branch 1', [\n",
        "            Student(1, 'F', {\"Maths\":100, \"English\":70, \"Science\":85}),\n",
        "            Student(2, 'G', {\"Maths\":80, \"English\":80, \"Science\":65}),\n",
        "            Student(3, 'H', {\"Maths\":90, \"English\":95, \"Science\":70})\n",
        "        ]),\n",
        "        Branch('Branch 2', [\n",
        "            Student(4, 'I', {\"Maths\":50, \"English\":84, \"Science\":94}),\n",
        "            Student(5, 'J', {\"Maths\":87, \"English\":60, \"Science\":80}),\n",
        "            Student(6, 'K', {\"Maths\":96, \"English\":70, \"Science\":61})   \n",
        "        ])\n",
        "    ])\n",
        "] \n",
        "\n",
        "print(Database)"
      ],
      "metadata": {
        "id": "CHT9PZo1sV2M",
        "colab": {
          "base_uri": "https://localhost:8080/"
        },
        "outputId": "1e05ee19-6d43-4dc0-bb60-614996b1a701"
      },
      "execution_count": 82,
      "outputs": [
        {
          "output_type": "stream",
          "name": "stdout",
          "text": [
            "[<__main__.Year object at 0x7f1b9360f760>, <__main__.Year object at 0x7f1b9360fa90>, <__main__.Year object at 0x7f1b9360fe20>, <__main__.Year object at 0x7f1b93617190>]\n"
          ]
        }
      ]
    },
    {
      "cell_type": "markdown",
      "source": [
        "**<h2>Question 9<h2>**"
      ],
      "metadata": {
        "id": "OGE4bZAysWMT"
      }
    },
    {
      "cell_type": "code",
      "source": [
        "import matplotlib.pyplot as plt\n",
        "import numpy as np "
      ],
      "metadata": {
        "id": "PdfIZIGnsXIh"
      },
      "execution_count": 83,
      "outputs": []
    },
    {
      "cell_type": "markdown",
      "source": [
        "**1. $y=x$**"
      ],
      "metadata": {
        "id": "5vdODlYYh_AG"
      }
    },
    {
      "cell_type": "code",
      "source": [
        "x=np.arange(0.5, 100.0, 0.5)\n",
        "y=x\n",
        "fig, ax=plt.subplots()\n",
        "ax.plot(x, y)\n",
        "plt.title(\"y=x\")"
      ],
      "metadata": {
        "colab": {
          "base_uri": "https://localhost:8080/",
          "height": 298
        },
        "id": "gz2VeTo8iBJs",
        "outputId": "5d0d8b72-e197-4650-c355-4e838c405571"
      },
      "execution_count": 84,
      "outputs": [
        {
          "output_type": "execute_result",
          "data": {
            "text/plain": [
              "Text(0.5, 1.0, 'y=x')"
            ]
          },
          "metadata": {},
          "execution_count": 84
        },
        {
          "output_type": "display_data",
          "data": {
            "text/plain": [
              "<Figure size 432x288 with 1 Axes>"
            ],
            "image/png": "[encoded data removed]"
          },
          "metadata": {
            "needs_background": "light"
          }
        }
      ]
    },
    {
      "cell_type": "markdown",
      "source": [
        "**2. $y=x^2$**"
      ],
      "metadata": {
        "id": "zqWK_BNciHeS"
      }
    },
    {
      "cell_type": "code",
      "source": [
        "y=x**2\n",
        "fig, ax=plt.subplots()\n",
        "ax.plot(x, y)\n",
        "plt.title(\"y=x^2\")"
      ],
      "metadata": {
        "colab": {
          "base_uri": "https://localhost:8080/",
          "height": 298
        },
        "id": "7sdf_gzPiKVE",
        "outputId": "69963d6f-e0e9-461c-d3fc-71155e6cbf57"
      },
      "execution_count": 85,
      "outputs": [
        {
          "output_type": "execute_result",
          "data": {
            "text/plain": [
              "Text(0.5, 1.0, 'y=x^2')"
            ]
          },
          "metadata": {},
          "execution_count": 85
        },
        {
          "output_type": "display_data",
          "data": {
            "text/plain": [
              "<Figure size 432x288 with 1 Axes>"
            ],
            "image/png": "[encoded data removed]"
          },
          "metadata": {
            "needs_background": "light"
          }
        }
      ]
    },
    {
      "cell_type": "markdown",
      "source": [
        "**3. $y=\\frac{x^3}{100}$**"
      ],
      "metadata": {
        "id": "pnVk9cMSiTi4"
      }
    },
    {
      "cell_type": "code",
      "source": [
        "y=x**3/100\n",
        "fig, ax=plt.subplots()\n",
        "ax.plot(x, y)\n",
        "plt.title(\"y=x^3/100\")"
      ],
      "metadata": {
        "colab": {
          "base_uri": "https://localhost:8080/",
          "height": 298
        },
        "id": "xg-rgCN6i8w_",
        "outputId": "73858cce-fb2c-4409-ff3b-b49fad835ecc"
      },
      "execution_count": 86,
      "outputs": [
        {
          "output_type": "execute_result",
          "data": {
            "text/plain": [
              "Text(0.5, 1.0, 'y=x^3/100')"
            ]
          },
          "metadata": {},
          "execution_count": 86
        },
        {
          "output_type": "display_data",
          "data": {
            "text/plain": [
              "<Figure size 432x288 with 1 Axes>"
            ],
            "image/png": "[encoded data removed]"
          },
          "metadata": {
            "needs_background": "light"
          }
        }
      ]
    },
    {
      "cell_type": "markdown",
      "source": [
        "**4. $y=sin(x)$**"
      ],
      "metadata": {
        "id": "poGhnTvrjHIT"
      }
    },
    {
      "cell_type": "code",
      "source": [
        "y=np.sin(x)\n",
        "fig, ax=plt.subplots()\n",
        "ax.plot(x, y)\n",
        "plt.title(\"y=sin(x)\")"
      ],
      "metadata": {
        "colab": {
          "base_uri": "https://localhost:8080/",
          "height": 298
        },
        "id": "LeWfZzCYjKlR",
        "outputId": "eec01c66-25a5-40c6-8d73-a3c738c0cd59"
      },
      "execution_count": 87,
      "outputs": [
        {
          "output_type": "execute_result",
          "data": {
            "text/plain": [
              "Text(0.5, 1.0, 'y=sin(x)')"
            ]
          },
          "metadata": {},
          "execution_count": 87
        },
        {
          "output_type": "display_data",
          "data": {
            "text/plain": [
              "<Figure size 432x288 with 1 Axes>"
            ],
            "image/png": "[encoded data removed]"
          },
          "metadata": {
            "needs_background": "light"
          }
        }
      ]
    },
    {
      "cell_type": "markdown",
      "source": [
        "**5. $y=\\frac{sin(x)}{x}$**"
      ],
      "metadata": {
        "id": "qXLORzgNjRxg"
      }
    },
    {
      "cell_type": "code",
      "source": [
        "y=np.sin(x)/x\n",
        "fig, ax=plt.subplots()\n",
        "ax.plot(x, y)\n",
        "plt.title(\"y=sin(x)/x\")"
      ],
      "metadata": {
        "colab": {
          "base_uri": "https://localhost:8080/",
          "height": 298
        },
        "id": "5uri9ap0jQnt",
        "outputId": "0d1166da-dee4-4eeb-f47d-a74c5193c1b4"
      },
      "execution_count": 88,
      "outputs": [
        {
          "output_type": "execute_result",
          "data": {
            "text/plain": [
              "Text(0.5, 1.0, 'y=sin(x)/x')"
            ]
          },
          "metadata": {},
          "execution_count": 88
        },
        {
          "output_type": "display_data",
          "data": {
            "text/plain": [
              "<Figure size 432x288 with 1 Axes>"
            ],
            "image/png": "[encoded data removed]"
          },
          "metadata": {
            "needs_background": "light"
          }
        }
      ]
    },
    {
      "cell_type": "markdown",
      "source": [
        "**6. $log(x)$**"
      ],
      "metadata": {
        "id": "06mB45tZjZVb"
      }
    },
    {
      "cell_type": "code",
      "source": [
        "y=np.log(x)\n",
        "fig, ax=plt.subplots()\n",
        "ax.plot(x, y) \n",
        "plt.title(\"y=log(x)\")"
      ],
      "metadata": {
        "colab": {
          "base_uri": "https://localhost:8080/",
          "height": 298
        },
        "id": "Lwuf5aXtj5PH",
        "outputId": "8d8ab20d-f875-4e56-b979-726916412288"
      },
      "execution_count": 89,
      "outputs": [
        {
          "output_type": "execute_result",
          "data": {
            "text/plain": [
              "Text(0.5, 1.0, 'y=log(x)')"
            ]
          },
          "metadata": {},
          "execution_count": 89
        },
        {
          "output_type": "display_data",
          "data": {
            "text/plain": [
              "<Figure size 432x288 with 1 Axes>"
            ],
            "image/png": "[encoded data removed]"
          },
          "metadata": {
            "needs_background": "light"
          }
        }
      ]
    },
    {
      "cell_type": "markdown",
      "source": [
        "**7. $y=e^x$**"
      ],
      "metadata": {
        "id": "GUG7cSfBj9pW"
      }
    },
    {
      "cell_type": "code",
      "source": [
        "y=np.exp(x)\n",
        "fig, ax=plt.subplots()\n",
        "ax.plot(x, y)\n",
        "plt.title(\"y=e^x\")"
      ],
      "metadata": {
        "colab": {
          "base_uri": "https://localhost:8080/",
          "height": 298
        },
        "id": "a6_h6HvZkAKL",
        "outputId": "4b615843-5e9d-4e4d-b7ae-32a6035c54fc"
      },
      "execution_count": 90,
      "outputs": [
        {
          "output_type": "execute_result",
          "data": {
            "text/plain": [
              "Text(0.5, 1.0, 'y=e^x')"
            ]
          },
          "metadata": {},
          "execution_count": 90
        },
        {
          "output_type": "display_data",
          "data": {
            "text/plain": [
              "<Figure size 432x288 with 1 Axes>"
            ],
            "image/png": "[encoded data removed]"
          },
          "metadata": {
            "needs_background": "light"
          }
        }
      ]
    },
    {
      "cell_type": "markdown",
      "source": [
        "**<h2>Question 10<h2>**"
      ],
      "metadata": {
        "id": "WeoDK73msXel"
      }
    },
    {
      "cell_type": "code",
      "source": [
        "import pandas as pd\n",
        "\n",
        "mat=np.random.uniform(1, 2, size=(20, 5))\n",
        "# print(mat)\n",
        "\n",
        "df=pd.DataFrame(mat)\n",
        "df.head()\n",
        "\n",
        "df.columns=[\"a\", \"b\", \"c\", \"d\", \"e\"]\n",
        "df.head()\n",
        "\n",
        "sd=df.std()\n",
        "print(\"Standard Deviation of the columns are: \")\n",
        "print(sd)\n",
        "print(\"The column with highest standard deviation is:\", df.std().idxmax(), \"\\n\")\n",
        "\n",
        "mean=df.mean(axis=1)\n",
        "print(\"Mean of the rows are: \")\n",
        "print(mean)\n",
        "print(\"The row with lowest mean is:\", df.mean(axis=1).idxmin())"
      ],
      "metadata": {
        "id": "cWrCHqGYsYlF",
        "colab": {
          "base_uri": "https://localhost:8080/"
        },
        "outputId": "c833d890-5245-41e4-8735-c99ad9343391"
      },
      "execution_count": 91,
      "outputs": [
        {
          "output_type": "stream",
          "name": "stdout",
          "text": [
            "Standard Deviation of the columns are: \n",
            "a    0.324344\n",
            "b    0.209742\n",
            "c    0.244810\n",
            "d    0.301187\n",
            "e    0.239423\n",
            "dtype: float64\n",
            "The column with highest standard deviation is: a \n",
            "\n",
            "Mean of the rows are: \n",
            "0     1.471066\n",
            "1     1.635817\n",
            "2     1.257893\n",
            "3     1.537825\n",
            "4     1.575104\n",
            "5     1.345455\n",
            "6     1.355555\n",
            "7     1.623762\n",
            "8     1.420128\n",
            "9     1.586509\n",
            "10    1.549461\n",
            "11    1.701517\n",
            "12    1.496521\n",
            "13    1.425633\n",
            "14    1.552731\n",
            "15    1.532684\n",
            "16    1.557868\n",
            "17    1.695914\n",
            "18    1.688910\n",
            "19    1.315839\n",
            "dtype: float64\n",
            "The row with lowest mean is: 2\n"
          ]
        }
      ]
    },
    {
      "cell_type": "markdown",
      "source": [
        "**<h2>Question 11<h2>**"
      ],
      "metadata": {
        "id": "0R3AH0m-sY6I"
      }
    },
    {
      "cell_type": "code",
      "source": [
        "df['f']=df[['a', 'b', 'c', 'd', 'e']].sum(axis=1)\n",
        "df.head() \n",
        "\n",
        "def greater(row):\n",
        "  if(row['g']=='GT8'):\n",
        "    return row['f']\n",
        "  else:\n",
        "    return np.nan\n",
        "\n",
        "def less(row):\n",
        "  if(row['g']=='LT8'):\n",
        "    return row['f']\n",
        "  else:\n",
        "    return np.nan\n",
        "\n",
        "# df['g']=df.apply(lambda row: row_sum(row), axis=1)\n",
        "df[\"g\"] = np.where(df[\"f\"] < 8, \"LT8\", \"GT8\")\n",
        "df.head()\n",
        "n=df[df['g']=='LT8'].shape[0]\n",
        "\n",
        "df['g_LT8']=df.apply(lambda row: less(row), axis=1)\n",
        "df['g_GT8']=df.apply(lambda row: greater(row), axis=1)\n",
        "print(df)\n",
        "\n",
        "sd_gt=df['g_GT8'].std(skipna=True)\n",
        "sd_lt=df['g_LT8'].std(skipna=True)         \n",
        "\n",
        "print(\"\\n\")\n",
        "print(\"The number of LT8 rows is:\", n)\n",
        "print(\"The standard deviation of values less than 8 is:\", sd_lt)\n",
        "print(\"The standard deviation of values greater than 8 is:\", sd_gt)"
      ],
      "metadata": {
        "id": "FDNwvyVysZxc",
        "colab": {
          "base_uri": "https://localhost:8080/"
        },
        "outputId": "2d9d703c-dcde-4d9c-ee45-e828ee1960b2"
      },
      "execution_count": 93,
      "outputs": [
        {
          "output_type": "stream",
          "name": "stdout",
          "text": [
            "           a         b         c         d         e         f    g     g_LT8  \\\n",
            "0   1.868080  1.582194  1.204934  1.213482  1.486638  7.355329  LT8  7.355329   \n",
            "1   1.890212  1.618925  1.652633  1.433915  1.583398  8.179083  GT8       NaN   \n",
            "2   1.141826  1.079420  1.815970  1.077429  1.174820  6.289465  LT8  6.289465   \n",
            "3   1.276063  1.667450  1.507353  1.414894  1.823363  7.689124  LT8  7.689124   \n",
            "4   1.261854  1.275701  1.825217  1.642223  1.870524  7.875518  LT8  7.875518   \n",
            "5   1.562801  1.360263  1.336291  1.059984  1.407937  6.727277  LT8  6.727277   \n",
            "6   1.069839  1.464748  1.483576  1.569575  1.190039  6.777777  LT8  6.777777   \n",
            "7   1.321529  1.713950  1.315465  1.939073  1.828793  8.118810  GT8       NaN   \n",
            "8   1.235890  1.161770  1.701105  1.521614  1.480264  7.100642  LT8  7.100642   \n",
            "9   1.688074  1.706206  1.605658  1.262266  1.670342  7.932546  LT8  7.932546   \n",
            "10  1.823046  1.496607  1.679829  1.231832  1.515993  7.747307  LT8  7.747307   \n",
            "11  1.778477  1.393035  1.948636  1.905302  1.482137  8.507587  GT8       NaN   \n",
            "12  1.022436  1.512425  1.463472  1.945337  1.538936  7.482606  LT8  7.482606   \n",
            "13  1.071369  1.392240  1.449889  1.989637  1.225031  7.128167  LT8  7.128167   \n",
            "14  1.479569  1.620460  1.813680  1.669811  1.180133  7.763653  LT8  7.763653   \n",
            "15  1.093164  1.160641  1.801245  1.980511  1.627861  7.663422  LT8  7.663422   \n",
            "16  1.687797  1.568632  1.364047  1.317198  1.851666  7.789340  LT8  7.789340   \n",
            "17  1.985735  1.651206  1.721774  1.708819  1.412036  8.479569  GT8       NaN   \n",
            "18  1.855934  1.294983  1.953623  1.454563  1.885448  8.444551  GT8       NaN   \n",
            "19  1.463633  1.067382  1.097891  1.627967  1.322324  6.579197  LT8  6.579197   \n",
            "\n",
            "       g_GT8  \n",
            "0        NaN  \n",
            "1   8.179083  \n",
            "2        NaN  \n",
            "3        NaN  \n",
            "4        NaN  \n",
            "5        NaN  \n",
            "6        NaN  \n",
            "7   8.118810  \n",
            "8        NaN  \n",
            "9        NaN  \n",
            "10       NaN  \n",
            "11  8.507587  \n",
            "12       NaN  \n",
            "13       NaN  \n",
            "14       NaN  \n",
            "15       NaN  \n",
            "16       NaN  \n",
            "17  8.479569  \n",
            "18  8.444551  \n",
            "19       NaN  \n",
            "\n",
            "\n",
            "The number of LT8 rows is: 15\n",
            "The standard deviation of values less than 8 is: 0.5281872004183017\n",
            "The standard deviation of values greater than 8 is: 0.1824415881024347\n"
          ]
        }
      ]
    },
    {
      "cell_type": "markdown",
      "source": [
        "**<h2>Question 12<h2>**"
      ],
      "metadata": {
        "id": "ng1xo00csaA8"
      }
    },
    {
      "cell_type": "markdown",
      "source": [
        "Broadcasting feature makes it possible to conduct arithmetic operations amongst arrays of various forms. It enables numpy to stretch the smaller array to take on the form of the larger array, enabling element-wise manipulation as shown in the example below."
      ],
      "metadata": {
        "id": "sUnbg3I6_gA4"
      }
    },
    {
      "cell_type": "code",
      "source": [
        "# matrix of size 3x2\n",
        "val1=np.array([[1, 2],\n",
        "                [3, 4],\n",
        "                [5, 8]])\n",
        "print(\"The shape of first array is:\", val1.shape)\n",
        "\n",
        "val2=np.array([5, 9])\n",
        "print(\"The shape of second array is:\",val2.shape, \"\\n\")\n",
        "\n",
        "val3=val1+val2\n",
        "print(\"After broadcasting we get the following array:\")\n",
        "print(val3)\n",
        "print(\"The shape of the resultant array is:\", val3.shape)"
      ],
      "metadata": {
        "id": "7xz7x2eRsa-_",
        "colab": {
          "base_uri": "https://localhost:8080/"
        },
        "outputId": "b7421f7f-d0ee-4fa5-b47e-f89a7302b042"
      },
      "execution_count": 94,
      "outputs": [
        {
          "output_type": "stream",
          "name": "stdout",
          "text": [
            "The shape of first array is: (3, 2)\n",
            "The shape of second array is: (2,) \n",
            "\n",
            "After broadcasting we get the following array:\n",
            "[[ 6 11]\n",
            " [ 8 13]\n",
            " [10 17]]\n",
            "The shape of the resultant array is: (3, 2)\n"
          ]
        }
      ]
    },
    {
      "cell_type": "markdown",
      "source": [
        "In the above code, $val_1$ is an array of $3\\times 2$ dimension and $val_2$ is just a 1D array with $1 \\times 2$ dimensions. When both of them are added, $val_2$ is broadcasted to the dimensions of $val_1$ i.e., $3\\times 2$ since it is of smaller dimension so that matrix addition is carried out.\n",
        "\n",
        "In the example above, $val_1$ is streched to $3\\times 2$ 2D array. The values in the first row are copied in the other rows to do so. Thus, matrix addition is carried out seamlessly.  "
      ],
      "metadata": {
        "id": "rg-1GifoCmRC"
      }
    },
    {
      "cell_type": "markdown",
      "source": [
        "**<h2>Question 13<h2>**"
      ],
      "metadata": {
        "id": "-onolPwKsbYA"
      }
    },
    {
      "cell_type": "code",
      "source": [
        "def my_argmin(arr):\n",
        "  min=arr[0]   # to store the minimum element of the array\n",
        "  ind=0   # to store the index of the minimum element\n",
        "\n",
        "  for index, element in enumerate(arr):\n",
        "    if element<min:\n",
        "      min=element\n",
        "      ind=index\n",
        "\n",
        "  return ind\n",
        "\n",
        "array=np.random.randint(10, size=5)\n",
        "my_ans=my_argmin(array)\n",
        "numpy_ans=np.argmin(array)\n",
        "\n",
        "print(array)\n",
        "print(\"Index of the minimum element of the array using the function created:\", my_ans)\n",
        "print(\"Index of the minimum element of the array using the in-built function:\", numpy_ans)\n",
        "\n",
        "assert my_ans==numpy_ans"
      ],
      "metadata": {
        "id": "f9ZP7ZqdscYP",
        "colab": {
          "base_uri": "https://localhost:8080/"
        },
        "outputId": "c0388c2c-58dd-4c1f-9996-48f0bd2376ab"
      },
      "execution_count": 96,
      "outputs": [
        {
          "output_type": "stream",
          "name": "stdout",
          "text": [
            "[8 8 1 0 7]\n",
            "Index of the minimum element of the array using the function created: 3\n",
            "Index of the minimum element of the array using the in-built function: 3\n"
          ]
        }
      ]
    },
    {
      "cell_type": "code",
      "source": [
        "# Python program to find second largest\n",
        "# number in a list\n",
        "\n",
        "# list of numbers - length of\n",
        "# list should be at least 2\n",
        "list1 = [10, 20, 4, 45, 99]\n",
        "\n",
        "mx = max(list1[0], list1[1])\n",
        "secondmax = min(list1[0], list1[1])\n",
        "n = len(list1)\n",
        "for i in range(2,n):\n",
        "\tif list1[i] > mx:\n",
        "\t\tsecondmax = mx\n",
        "\t\tmx = list1[i]\n",
        "\telif list1[i] > secondmax and \\\n",
        "\t\tmx != list1[i]:\n",
        "\t\tsecondmax = list1[i]\n",
        "\telif mx == secondmax and \\\n",
        "\t\tsecondmax != list1[i]:\n",
        "\t\tsecondmax = list1[i]\n",
        "\n",
        "print(\"Second highest number is : \",secondmax)\n",
        "print(mx)\n"
      ],
      "metadata": {
        "colab": {
          "base_uri": "https://localhost:8080/"
        },
        "id": "ZoihaABxPXU8",
        "outputId": "ceacb3ec-69dc-4dec-c5e7-5ccfe70dd9f5"
      },
      "execution_count": 97,
      "outputs": [
        {
          "output_type": "stream",
          "name": "stdout",
          "text": [
            "Second highest number is :  45\n",
            "99\n"
          ]
        }
      ]
    }
  ]
}